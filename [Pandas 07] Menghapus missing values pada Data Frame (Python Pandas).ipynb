{
 "cells": [
  {
   "cell_type": "code",
   "execution_count": 21,
   "metadata": {},
   "outputs": [],
   "source": [
    "import pandas as pd\n",
    "import numpy as np\n"
   ]
  },
  {
   "cell_type": "code",
   "execution_count": 22,
   "metadata": {},
   "outputs": [],
   "source": [
    "df = pd.util.testing.makeMissingDataframe()"
   ]
  },
  {
   "cell_type": "code",
   "execution_count": 23,
   "metadata": {},
   "outputs": [
    {
     "data": {
      "text/html": [
       "<div>\n",
       "<style scoped>\n",
       "    .dataframe tbody tr th:only-of-type {\n",
       "        vertical-align: middle;\n",
       "    }\n",
       "\n",
       "    .dataframe tbody tr th {\n",
       "        vertical-align: top;\n",
       "    }\n",
       "\n",
       "    .dataframe thead th {\n",
       "        text-align: right;\n",
       "    }\n",
       "</style>\n",
       "<table border=\"1\" class=\"dataframe\">\n",
       "  <thead>\n",
       "    <tr style=\"text-align: right;\">\n",
       "      <th></th>\n",
       "      <th>A</th>\n",
       "      <th>B</th>\n",
       "      <th>C</th>\n",
       "      <th>D</th>\n",
       "    </tr>\n",
       "  </thead>\n",
       "  <tbody>\n",
       "    <tr>\n",
       "      <th>OwCYtjmBvh</th>\n",
       "      <td>1.064334</td>\n",
       "      <td>-0.352749</td>\n",
       "      <td>-0.971850</td>\n",
       "      <td>0.504223</td>\n",
       "    </tr>\n",
       "    <tr>\n",
       "      <th>AvHGpoeCHx</th>\n",
       "      <td>0.396967</td>\n",
       "      <td>0.938971</td>\n",
       "      <td>0.981378</td>\n",
       "      <td>0.519250</td>\n",
       "    </tr>\n",
       "    <tr>\n",
       "      <th>zOwAWqDR8F</th>\n",
       "      <td>NaN</td>\n",
       "      <td>-0.856058</td>\n",
       "      <td>0.425381</td>\n",
       "      <td>0.417320</td>\n",
       "    </tr>\n",
       "    <tr>\n",
       "      <th>ZqcLzhVb97</th>\n",
       "      <td>NaN</td>\n",
       "      <td>0.909476</td>\n",
       "      <td>NaN</td>\n",
       "      <td>NaN</td>\n",
       "    </tr>\n",
       "    <tr>\n",
       "      <th>VAKFmiE09s</th>\n",
       "      <td>-0.803238</td>\n",
       "      <td>-0.301608</td>\n",
       "      <td>-0.873868</td>\n",
       "      <td>0.075229</td>\n",
       "    </tr>\n",
       "  </tbody>\n",
       "</table>\n",
       "</div>"
      ],
      "text/plain": [
       "                   A         B         C         D\n",
       "OwCYtjmBvh  1.064334 -0.352749 -0.971850  0.504223\n",
       "AvHGpoeCHx  0.396967  0.938971  0.981378  0.519250\n",
       "zOwAWqDR8F       NaN -0.856058  0.425381  0.417320\n",
       "ZqcLzhVb97       NaN  0.909476       NaN       NaN\n",
       "VAKFmiE09s -0.803238 -0.301608 -0.873868  0.075229"
      ]
     },
     "execution_count": 23,
     "metadata": {},
     "output_type": "execute_result"
    }
   ],
   "source": [
    "df.head()"
   ]
  },
  {
   "cell_type": "code",
   "execution_count": 24,
   "metadata": {},
   "outputs": [
    {
     "data": {
      "text/html": [
       "<div>\n",
       "<style scoped>\n",
       "    .dataframe tbody tr th:only-of-type {\n",
       "        vertical-align: middle;\n",
       "    }\n",
       "\n",
       "    .dataframe tbody tr th {\n",
       "        vertical-align: top;\n",
       "    }\n",
       "\n",
       "    .dataframe thead th {\n",
       "        text-align: right;\n",
       "    }\n",
       "</style>\n",
       "<table border=\"1\" class=\"dataframe\">\n",
       "  <thead>\n",
       "    <tr style=\"text-align: right;\">\n",
       "      <th></th>\n",
       "      <th>index</th>\n",
       "      <th>A</th>\n",
       "      <th>B</th>\n",
       "      <th>C</th>\n",
       "      <th>D</th>\n",
       "    </tr>\n",
       "  </thead>\n",
       "  <tbody>\n",
       "    <tr>\n",
       "      <th>0</th>\n",
       "      <td>BSaV3JddUc</td>\n",
       "      <td>-0.178730</td>\n",
       "      <td>-0.509371</td>\n",
       "      <td>1.504687</td>\n",
       "      <td>-0.767304</td>\n",
       "    </tr>\n",
       "    <tr>\n",
       "      <th>1</th>\n",
       "      <td>yZEGwM3HPz</td>\n",
       "      <td>-0.303291</td>\n",
       "      <td>-1.040358</td>\n",
       "      <td>0.697410</td>\n",
       "      <td>-1.004239</td>\n",
       "    </tr>\n",
       "    <tr>\n",
       "      <th>2</th>\n",
       "      <td>NE7szZIKNZ</td>\n",
       "      <td>-0.567516</td>\n",
       "      <td>-0.715943</td>\n",
       "      <td>0.024602</td>\n",
       "      <td>0.319168</td>\n",
       "    </tr>\n",
       "    <tr>\n",
       "      <th>3</th>\n",
       "      <td>PBH0CahiIr</td>\n",
       "      <td>0.857789</td>\n",
       "      <td>-1.624684</td>\n",
       "      <td>-0.385799</td>\n",
       "      <td>1.741344</td>\n",
       "    </tr>\n",
       "    <tr>\n",
       "      <th>4</th>\n",
       "      <td>n0t2LNMyH7</td>\n",
       "      <td>NaN</td>\n",
       "      <td>-1.570840</td>\n",
       "      <td>0.363830</td>\n",
       "      <td>-0.178820</td>\n",
       "    </tr>\n",
       "  </tbody>\n",
       "</table>\n",
       "</div>"
      ],
      "text/plain": [
       "        index         A         B         C         D\n",
       "0  BSaV3JddUc -0.178730 -0.509371  1.504687 -0.767304\n",
       "1  yZEGwM3HPz -0.303291 -1.040358  0.697410 -1.004239\n",
       "2  NE7szZIKNZ -0.567516 -0.715943  0.024602  0.319168\n",
       "3  PBH0CahiIr  0.857789 -1.624684 -0.385799  1.741344\n",
       "4  n0t2LNMyH7       NaN -1.570840  0.363830 -0.178820"
      ]
     },
     "execution_count": 24,
     "metadata": {},
     "output_type": "execute_result"
    }
   ],
   "source": [
    "df = pd.util.testing.makeMissingDataframe().reset_index()\n",
    "df.head()"
   ]
  },
  {
   "cell_type": "code",
   "execution_count": 25,
   "metadata": {},
   "outputs": [
    {
     "data": {
      "text/html": [
       "<div>\n",
       "<style scoped>\n",
       "    .dataframe tbody tr th:only-of-type {\n",
       "        vertical-align: middle;\n",
       "    }\n",
       "\n",
       "    .dataframe tbody tr th {\n",
       "        vertical-align: top;\n",
       "    }\n",
       "\n",
       "    .dataframe thead th {\n",
       "        text-align: right;\n",
       "    }\n",
       "</style>\n",
       "<table border=\"1\" class=\"dataframe\">\n",
       "  <thead>\n",
       "    <tr style=\"text-align: right;\">\n",
       "      <th></th>\n",
       "      <th>index</th>\n",
       "      <th>A</th>\n",
       "      <th>B</th>\n",
       "      <th>C</th>\n",
       "      <th>D</th>\n",
       "    </tr>\n",
       "  </thead>\n",
       "  <tbody>\n",
       "    <tr>\n",
       "      <th>0</th>\n",
       "      <td>BSaV3JddUc</td>\n",
       "      <td>-0.178730</td>\n",
       "      <td>-0.509371</td>\n",
       "      <td>1.504687</td>\n",
       "      <td>-0.767304</td>\n",
       "    </tr>\n",
       "    <tr>\n",
       "      <th>1</th>\n",
       "      <td>yZEGwM3HPz</td>\n",
       "      <td>-0.303291</td>\n",
       "      <td>-1.040358</td>\n",
       "      <td>0.697410</td>\n",
       "      <td>-1.004239</td>\n",
       "    </tr>\n",
       "    <tr>\n",
       "      <th>2</th>\n",
       "      <td>NE7szZIKNZ</td>\n",
       "      <td>-0.567516</td>\n",
       "      <td>-0.715943</td>\n",
       "      <td>0.024602</td>\n",
       "      <td>0.319168</td>\n",
       "    </tr>\n",
       "    <tr>\n",
       "      <th>3</th>\n",
       "      <td>PBH0CahiIr</td>\n",
       "      <td>0.857789</td>\n",
       "      <td>-1.624684</td>\n",
       "      <td>-0.385799</td>\n",
       "      <td>1.741344</td>\n",
       "    </tr>\n",
       "    <tr>\n",
       "      <th>4</th>\n",
       "      <td>n0t2LNMyH7</td>\n",
       "      <td>NaN</td>\n",
       "      <td>-1.570840</td>\n",
       "      <td>0.363830</td>\n",
       "      <td>-0.178820</td>\n",
       "    </tr>\n",
       "  </tbody>\n",
       "</table>\n",
       "</div>"
      ],
      "text/plain": [
       "        index         A         B         C         D\n",
       "0  BSaV3JddUc -0.178730 -0.509371  1.504687 -0.767304\n",
       "1  yZEGwM3HPz -0.303291 -1.040358  0.697410 -1.004239\n",
       "2  NE7szZIKNZ -0.567516 -0.715943  0.024602  0.319168\n",
       "3  PBH0CahiIr  0.857789 -1.624684 -0.385799  1.741344\n",
       "4  n0t2LNMyH7       NaN -1.570840  0.363830 -0.178820"
      ]
     },
     "execution_count": 25,
     "metadata": {},
     "output_type": "execute_result"
    }
   ],
   "source": [
    "df_backup = df.copy(deep=True)\n",
    "df_backup.head()"
   ]
  },
  {
   "cell_type": "markdown",
   "metadata": {},
   "source": [
    "## Menghitung jumlah NaN tiap kolom"
   ]
  },
  {
   "cell_type": "code",
   "execution_count": 26,
   "metadata": {},
   "outputs": [
    {
     "data": {
      "text/plain": [
       "index    0\n",
       "A        3\n",
       "B        4\n",
       "C        4\n",
       "D        1\n",
       "dtype: int64"
      ]
     },
     "execution_count": 26,
     "metadata": {},
     "output_type": "execute_result"
    }
   ],
   "source": [
    "df_backup.isna().sum()"
   ]
  },
  {
   "cell_type": "markdown",
   "metadata": {},
   "source": [
    "## Drop kolom yang mengandung NaN"
   ]
  },
  {
   "cell_type": "code",
   "execution_count": 27,
   "metadata": {},
   "outputs": [
    {
     "data": {
      "text/html": [
       "<div>\n",
       "<style scoped>\n",
       "    .dataframe tbody tr th:only-of-type {\n",
       "        vertical-align: middle;\n",
       "    }\n",
       "\n",
       "    .dataframe tbody tr th {\n",
       "        vertical-align: top;\n",
       "    }\n",
       "\n",
       "    .dataframe thead th {\n",
       "        text-align: right;\n",
       "    }\n",
       "</style>\n",
       "<table border=\"1\" class=\"dataframe\">\n",
       "  <thead>\n",
       "    <tr style=\"text-align: right;\">\n",
       "      <th></th>\n",
       "      <th>index</th>\n",
       "    </tr>\n",
       "  </thead>\n",
       "  <tbody>\n",
       "    <tr>\n",
       "      <th>0</th>\n",
       "      <td>BSaV3JddUc</td>\n",
       "    </tr>\n",
       "    <tr>\n",
       "      <th>1</th>\n",
       "      <td>yZEGwM3HPz</td>\n",
       "    </tr>\n",
       "    <tr>\n",
       "      <th>2</th>\n",
       "      <td>NE7szZIKNZ</td>\n",
       "    </tr>\n",
       "    <tr>\n",
       "      <th>3</th>\n",
       "      <td>PBH0CahiIr</td>\n",
       "    </tr>\n",
       "    <tr>\n",
       "      <th>4</th>\n",
       "      <td>n0t2LNMyH7</td>\n",
       "    </tr>\n",
       "  </tbody>\n",
       "</table>\n",
       "</div>"
      ],
      "text/plain": [
       "        index\n",
       "0  BSaV3JddUc\n",
       "1  yZEGwM3HPz\n",
       "2  NE7szZIKNZ\n",
       "3  PBH0CahiIr\n",
       "4  n0t2LNMyH7"
      ]
     },
     "execution_count": 27,
     "metadata": {},
     "output_type": "execute_result"
    }
   ],
   "source": [
    "df.dropna(axis='columns').head()"
   ]
  },
  {
   "cell_type": "markdown",
   "metadata": {},
   "source": [
    "## Drop baris yang mengandung NaN"
   ]
  },
  {
   "cell_type": "code",
   "execution_count": 28,
   "metadata": {},
   "outputs": [
    {
     "data": {
      "text/html": [
       "<div>\n",
       "<style scoped>\n",
       "    .dataframe tbody tr th:only-of-type {\n",
       "        vertical-align: middle;\n",
       "    }\n",
       "\n",
       "    .dataframe tbody tr th {\n",
       "        vertical-align: top;\n",
       "    }\n",
       "\n",
       "    .dataframe thead th {\n",
       "        text-align: right;\n",
       "    }\n",
       "</style>\n",
       "<table border=\"1\" class=\"dataframe\">\n",
       "  <thead>\n",
       "    <tr style=\"text-align: right;\">\n",
       "      <th></th>\n",
       "      <th>index</th>\n",
       "      <th>A</th>\n",
       "      <th>B</th>\n",
       "      <th>C</th>\n",
       "      <th>D</th>\n",
       "    </tr>\n",
       "  </thead>\n",
       "  <tbody>\n",
       "    <tr>\n",
       "      <th>0</th>\n",
       "      <td>BSaV3JddUc</td>\n",
       "      <td>-0.178730</td>\n",
       "      <td>-0.509371</td>\n",
       "      <td>1.504687</td>\n",
       "      <td>-0.767304</td>\n",
       "    </tr>\n",
       "    <tr>\n",
       "      <th>1</th>\n",
       "      <td>yZEGwM3HPz</td>\n",
       "      <td>-0.303291</td>\n",
       "      <td>-1.040358</td>\n",
       "      <td>0.697410</td>\n",
       "      <td>-1.004239</td>\n",
       "    </tr>\n",
       "    <tr>\n",
       "      <th>2</th>\n",
       "      <td>NE7szZIKNZ</td>\n",
       "      <td>-0.567516</td>\n",
       "      <td>-0.715943</td>\n",
       "      <td>0.024602</td>\n",
       "      <td>0.319168</td>\n",
       "    </tr>\n",
       "    <tr>\n",
       "      <th>3</th>\n",
       "      <td>PBH0CahiIr</td>\n",
       "      <td>0.857789</td>\n",
       "      <td>-1.624684</td>\n",
       "      <td>-0.385799</td>\n",
       "      <td>1.741344</td>\n",
       "    </tr>\n",
       "    <tr>\n",
       "      <th>9</th>\n",
       "      <td>nN4Wilfo3i</td>\n",
       "      <td>-0.438927</td>\n",
       "      <td>0.281403</td>\n",
       "      <td>-1.181022</td>\n",
       "      <td>1.167687</td>\n",
       "    </tr>\n",
       "  </tbody>\n",
       "</table>\n",
       "</div>"
      ],
      "text/plain": [
       "        index         A         B         C         D\n",
       "0  BSaV3JddUc -0.178730 -0.509371  1.504687 -0.767304\n",
       "1  yZEGwM3HPz -0.303291 -1.040358  0.697410 -1.004239\n",
       "2  NE7szZIKNZ -0.567516 -0.715943  0.024602  0.319168\n",
       "3  PBH0CahiIr  0.857789 -1.624684 -0.385799  1.741344\n",
       "9  nN4Wilfo3i -0.438927  0.281403 -1.181022  1.167687"
      ]
     },
     "execution_count": 28,
     "metadata": {},
     "output_type": "execute_result"
    }
   ],
   "source": [
    "df.dropna(axis='rows').head()"
   ]
  },
  {
   "cell_type": "markdown",
   "metadata": {},
   "source": [
    "## Drop kolom yang mengandung NaN berdasarkan nilai treshold "
   ]
  },
  {
   "cell_type": "code",
   "execution_count": 39,
   "metadata": {},
   "outputs": [
    {
     "data": {
      "text/plain": [
       "index    0.000000\n",
       "A        0.100000\n",
       "B        0.133333\n",
       "C        0.133333\n",
       "D        0.033333\n",
       "dtype: float64"
      ]
     },
     "execution_count": 39,
     "metadata": {},
     "output_type": "execute_result"
    }
   ],
   "source": [
    "df.isna().mean()"
   ]
  },
  {
   "cell_type": "code",
   "execution_count": 40,
   "metadata": {},
   "outputs": [
    {
     "data": {
      "text/plain": [
       "27.0"
      ]
     },
     "execution_count": 40,
     "metadata": {},
     "output_type": "execute_result"
    }
   ],
   "source": [
    "treshold = len(df) * 0.9\n",
    "treshold"
   ]
  },
  {
   "cell_type": "code",
   "execution_count": 41,
   "metadata": {},
   "outputs": [
    {
     "data": {
      "text/html": [
       "<div>\n",
       "<style scoped>\n",
       "    .dataframe tbody tr th:only-of-type {\n",
       "        vertical-align: middle;\n",
       "    }\n",
       "\n",
       "    .dataframe tbody tr th {\n",
       "        vertical-align: top;\n",
       "    }\n",
       "\n",
       "    .dataframe thead th {\n",
       "        text-align: right;\n",
       "    }\n",
       "</style>\n",
       "<table border=\"1\" class=\"dataframe\">\n",
       "  <thead>\n",
       "    <tr style=\"text-align: right;\">\n",
       "      <th></th>\n",
       "      <th>index</th>\n",
       "      <th>A</th>\n",
       "      <th>D</th>\n",
       "    </tr>\n",
       "  </thead>\n",
       "  <tbody>\n",
       "    <tr>\n",
       "      <th>0</th>\n",
       "      <td>BSaV3JddUc</td>\n",
       "      <td>-0.178730</td>\n",
       "      <td>-0.767304</td>\n",
       "    </tr>\n",
       "    <tr>\n",
       "      <th>1</th>\n",
       "      <td>yZEGwM3HPz</td>\n",
       "      <td>-0.303291</td>\n",
       "      <td>-1.004239</td>\n",
       "    </tr>\n",
       "    <tr>\n",
       "      <th>2</th>\n",
       "      <td>NE7szZIKNZ</td>\n",
       "      <td>-0.567516</td>\n",
       "      <td>0.319168</td>\n",
       "    </tr>\n",
       "    <tr>\n",
       "      <th>3</th>\n",
       "      <td>PBH0CahiIr</td>\n",
       "      <td>0.857789</td>\n",
       "      <td>1.741344</td>\n",
       "    </tr>\n",
       "    <tr>\n",
       "      <th>4</th>\n",
       "      <td>n0t2LNMyH7</td>\n",
       "      <td>NaN</td>\n",
       "      <td>-0.178820</td>\n",
       "    </tr>\n",
       "  </tbody>\n",
       "</table>\n",
       "</div>"
      ],
      "text/plain": [
       "        index         A         D\n",
       "0  BSaV3JddUc -0.178730 -0.767304\n",
       "1  yZEGwM3HPz -0.303291 -1.004239\n",
       "2  NE7szZIKNZ -0.567516  0.319168\n",
       "3  PBH0CahiIr  0.857789  1.741344\n",
       "4  n0t2LNMyH7       NaN -0.178820"
      ]
     },
     "execution_count": 41,
     "metadata": {},
     "output_type": "execute_result"
    }
   ],
   "source": [
    "df.dropna(thresh=treshold, axis='columns').head()"
   ]
  },
  {
   "cell_type": "markdown",
   "metadata": {},
   "source": [
    "Kolom yang memiliki jumlah NaN > 90% akan di drop"
   ]
  },
  {
   "cell_type": "code",
   "execution_count": null,
   "metadata": {},
   "outputs": [],
   "source": []
  }
 ],
 "metadata": {
  "kernelspec": {
   "display_name": "Python 3",
   "language": "python",
   "name": "python3"
  },
  "language_info": {
   "codemirror_mode": {
    "name": "ipython",
    "version": 3
   },
   "file_extension": ".py",
   "mimetype": "text/x-python",
   "name": "python",
   "nbconvert_exporter": "python",
   "pygments_lexer": "ipython3",
   "version": "3.8.5"
  }
 },
 "nbformat": 4,
 "nbformat_minor": 4
}
